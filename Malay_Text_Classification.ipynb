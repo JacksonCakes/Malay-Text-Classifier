{
  "nbformat": 4,
  "nbformat_minor": 0,
  "metadata": {
    "colab": {
      "name": "Malay Text Classification.ipynb",
      "provenance": [],
      "collapsed_sections": []
    },
    "kernelspec": {
      "name": "python3",
      "display_name": "Python 3"
    },
    "accelerator": "GPU"
  },
  "cells": [
    {
      "cell_type": "markdown",
      "metadata": {
        "id": "kxdwYSLZ7o2G"
      },
      "source": [
        "The link to dataset download can be obtained here\n",
        "https://github.com/huseinzol05/Malay-Dataset/tree/master/corpus/malaysia-topics"
      ]
    },
    {
      "cell_type": "markdown",
      "metadata": {
        "id": "fbmUqHcGHy4S"
      },
      "source": [
        "# Import all the necessary libraries"
      ]
    },
    {
      "cell_type": "code",
      "metadata": {
        "id": "KuPhVdtCUkl-"
      },
      "source": [
        "import pandas as pd\n",
        "from sklearn import model_selection, preprocessing, linear_model, naive_bayes, metrics, svm\n",
        "from sklearn.feature_extraction.text import TfidfVectorizer\n",
        "\n",
        "import pandas\n",
        "import re\n",
        "import numpy as np\n",
        "import matplotlib.pyplot as plt\n",
        "from sklearn.metrics import plot_confusion_matrix\n",
        "import json \n",
        "import pickle\n",
        "from sklearn.metrics import classification_report, confusion_matrix, accuracy_score"
      ],
      "execution_count": null,
      "outputs": []
    },
    {
      "cell_type": "markdown",
      "metadata": {
        "id": "bjw59SFSH2mu"
      },
      "source": [
        "# Import Dataset"
      ]
    },
    {
      "cell_type": "code",
      "metadata": {
        "id": "wuuX9FAeUsAC"
      },
      "source": [
        "agama = pd.read_json(\"../content/agama.json\")\n",
        "alam = pd.read_json(\"../content/alam sekitar.json\")\n",
        "bank = pd.read_json(\"../content/bank negara.json\")\n",
        "esport = pd.read_json(\"../content/esport.json\")\n",
        "racist = pd.read_json(\"../content/racist.json\")\n",
        "dadah = pd.read_json(\"../content/isu dadah.json\")\n",
        "miskin = pd.read_json(\"../content/isu kemiskinan.json\")\n",
        "bank2 =  pd.read_json(\"../content/bank malaysia.json\")\n",
        "ekonomi =  pd.read_json(\"../content/ekonomi.json\")\n",
        "sihat = pd.read_json(\"../content/kesihatan.json\")\n",
        "rasuah = pd.read_json(\"../content/kes rasuah.json\")\n",
        "masyarakat = pd.read_json(\"../content/masyarakat.json\")\n",
        "ptptn = pd.read_json(\"../content/ptptn.json\")\n",
        "sosial = pd.read_json(\"../content/gejala sosial.json\")\n",
        "pendidikan = pd.read_json(\"../content/pendidikan.json\")\n",
        "sekolah = pd.read_json(\"../content/sekolah.json\")\n",
        "infrastruktur = pd.read_json(\"../content/infrastruktur.json\")\n",
        "teknologi = pd.read_json(\"../content/teknologi.json\")"
      ],
      "execution_count": null,
      "outputs": []
    },
    {
      "cell_type": "code",
      "metadata": {
        "id": "dwJAhNw6U2dR"
      },
      "source": [
        "agama.rename(columns={0: 'Content'},inplace=True)\n",
        "alam.rename(columns={0:'Content'},inplace=True)\n",
        "ptptn.rename(columns={0:'Content'},inplace=True)\n",
        "infrastruktur.rename(columns={0:'Content'},inplace=True)\n",
        "bank2.rename(columns={0:'Content'},inplace=True)\n",
        "ekonomi.rename(columns={0:'Content'},inplace=True)\n",
        "rasuah.rename(columns={0:'Content'},inplace=True)\n",
        "esport.rename(columns={0:'Content'},inplace=True)\n",
        "bank.rename(columns={0:'Content'},inplace=True)\n",
        "racist.rename(columns={0:'Content'},inplace=True)\n",
        "dadah.rename(columns={0:'Content'},inplace=True)\n",
        "miskin.rename(columns={0:'Content'},inplace=True)\n",
        "sihat.rename(columns={0:'Content'},inplace=True)\n",
        "masyarakat.rename(columns={0:'Content'},inplace=True)\n",
        "sosial.rename(columns={0:'Content'},inplace=True)\n",
        "pendidikan.rename(columns={0:'Content'},inplace=True)\n",
        "sekolah.rename(columns={0:'Content'},inplace=True)\n",
        "teknologi.rename(columns={0:'Content'},inplace=True)"
      ],
      "execution_count": null,
      "outputs": []
    },
    {
      "cell_type": "code",
      "metadata": {
        "id": "GuzjTMGftJEP"
      },
      "source": [
        "agama['label'] = 'Agama'\n",
        "alam['label'] = 'Alam Sekitar'\n",
        "esport['label'] = 'Esport'\n",
        "rasuah['label'] = 'Rasuah'\n",
        "bank2['label'] = 'Bank'\n",
        "ekonomi['label'] = 'Ekonomi'\n",
        "ptptn['label'] = 'PTPTN'\n",
        "infrastruktur['label'] = 'Infrastruktur'\n",
        "bank['label'] = 'Bank'\n",
        "racist['label'] = 'Rasis'\n",
        "dadah['label'] = 'Isu Dadah'\n",
        "miskin['label'] = 'Isu Kemiskinan'\n",
        "sihat['label'] = 'Isu Kesihatan'\n",
        "masyarakat['label'] = 'Isu Masyarakat'\n",
        "sosial['label'] = 'Isu Sosial'\n",
        "pendidikan['label'] = 'Pendidikan'\n",
        "sekolah['label'] = 'Pendidikan'\n",
        "teknologi['label'] = 'Teknologi'"
      ],
      "execution_count": null,
      "outputs": []
    },
    {
      "cell_type": "code",
      "metadata": {
        "colab": {
          "base_uri": "https://localhost:8080/"
        },
        "id": "q0--4kvJLJma",
        "outputId": "a1bb4e47-ac36-498d-839a-27ad26491ace"
      },
      "source": [
        "print(\"Agama: \"+str(len(agama)))\n",
        "print(\"Alam: \"+str(len(alam)))\n",
        "print(\"Esport: \"+str(len(esport)))\n",
        "print(\"Rasuah: \"+str(len(rasuah)))\n",
        "print(\"PTPTN: \"+str(len(ptptn)))\n",
        "print(\"Bank: \"+str(len(bank)+len(bank2)))\n",
        "print(\"Ekonomi: \"+str(len(ekonomi)))\n",
        "print(\"Infrastruktur: \"+str(len(infrastruktur)))\n",
        "print(\"Racist: \"+str(len(racist)))\n",
        "print(\"Dadah: \"+str(len(dadah)))\n",
        "print(\"Masyarakat: \"+str(len(masyarakat)))\n",
        "print(\"Sosial: \"+str(len(sosial)))\n",
        "print(\"Pendidikan: \"+str(len(pendidikan)+len(sekolah)))\n",
        "print(\"Teknologi: \"+str(len(teknologi)))\n",
        "print(\"Kesihatan: \"+str(len(sihat)))\n",
        "print(\"Kemiskinan: \"+str(len(miskin)))"
      ],
      "execution_count": null,
      "outputs": [
        {
          "output_type": "stream",
          "text": [
            "Agama: 14803\n",
            "Alam: 1921\n",
            "Esport: 9335\n",
            "Rasuah: 4562\n",
            "PTPTN: 22417\n",
            "Bank: 48448\n",
            "Ekonomi: 46674\n",
            "Infrastruktur: 45523\n",
            "Racist: 517\n",
            "Dadah: 11149\n",
            "Masyarakat: 3577\n",
            "Sosial: 19464\n",
            "Pendidikan: 1839\n",
            "Teknologi: 35395\n",
            "Kesihatan: 8392\n",
            "Kemiskinan: 75809\n"
          ],
          "name": "stdout"
        }
      ]
    },
    {
      "cell_type": "code",
      "metadata": {
        "id": "PTEN-t0mtNSm"
      },
      "source": [
        "df = pd.concat([agama, alam, esport,ekonomi, rasuah, ptptn, infrastruktur, racist, dadah,miskin, sihat,masyarakat,sosial,pendidikan,sekolah,teknologi],ignore_index=True)"
      ],
      "execution_count": null,
      "outputs": []
    },
    {
      "cell_type": "code",
      "metadata": {
        "colab": {
          "base_uri": "https://localhost:8080/",
          "height": 343
        },
        "id": "qBg76XK_Rym5",
        "outputId": "f0b2443c-dc57-47a7-fea7-18c5908b16d6"
      },
      "source": [
        "df[200000:200010]"
      ],
      "execution_count": null,
      "outputs": [
        {
          "output_type": "execute_result",
          "data": {
            "text/html": [
              "<div>\n",
              "<style scoped>\n",
              "    .dataframe tbody tr th:only-of-type {\n",
              "        vertical-align: middle;\n",
              "    }\n",
              "\n",
              "    .dataframe tbody tr th {\n",
              "        vertical-align: top;\n",
              "    }\n",
              "\n",
              "    .dataframe thead th {\n",
              "        text-align: right;\n",
              "    }\n",
              "</style>\n",
              "<table border=\"1\" class=\"dataframe\">\n",
              "  <thead>\n",
              "    <tr style=\"text-align: right;\">\n",
              "      <th></th>\n",
              "      <th>Content</th>\n",
              "      <th>label</th>\n",
              "    </tr>\n",
              "  </thead>\n",
              "  <tbody>\n",
              "    <tr>\n",
              "      <th>200000</th>\n",
              "      <td>ustazah arbaenah bagi duit belanja banyak even...</td>\n",
              "      <td>Isu Kemiskinan</td>\n",
              "    </tr>\n",
              "    <tr>\n",
              "      <th>200001</th>\n",
              "      <td>Turunkan Angka Kemiskinan, Pemkot Malang Tarik...</td>\n",
              "      <td>Isu Kemiskinan</td>\n",
              "    </tr>\n",
              "    <tr>\n",
              "      <th>200002</th>\n",
              "      <td>@Muhamma83724996 @schxnht Bukan takde calon . ...</td>\n",
              "      <td>Isu Kemiskinan</td>\n",
              "    </tr>\n",
              "    <tr>\n",
              "      <th>200003</th>\n",
              "      <td>and aku biasalah mana banyak sangat duit tu? t...</td>\n",
              "      <td>Isu Kemiskinan</td>\n",
              "    </tr>\n",
              "    <tr>\n",
              "      <th>200004</th>\n",
              "      <td>Adakah Annuar Musa ikuti perbicaraan Najib ata...</td>\n",
              "      <td>Isu Kemiskinan</td>\n",
              "    </tr>\n",
              "    <tr>\n",
              "      <th>200005</th>\n",
              "      <td>Bangun pagi stress, nak tgk wayang movie tu ta...</td>\n",
              "      <td>Isu Kemiskinan</td>\n",
              "    </tr>\n",
              "    <tr>\n",
              "      <th>200006</th>\n",
              "      <td>Kenapa la best sangat hidup ni  Membe siap tan...</td>\n",
              "      <td>Isu Kemiskinan</td>\n",
              "    </tr>\n",
              "    <tr>\n",
              "      <th>200007</th>\n",
              "      <td>mls bgt ikut bukber gd duit bg</td>\n",
              "      <td>Isu Kemiskinan</td>\n",
              "    </tr>\n",
              "    <tr>\n",
              "      <th>200008</th>\n",
              "      <td>Mahathir rompak duit Umno dan duit Malaysia ka...</td>\n",
              "      <td>Isu Kemiskinan</td>\n",
              "    </tr>\n",
              "    <tr>\n",
              "      <th>200009</th>\n",
              "      <td>@catallunya96 raya ni bosan takde kuih semperi...</td>\n",
              "      <td>Isu Kemiskinan</td>\n",
              "    </tr>\n",
              "  </tbody>\n",
              "</table>\n",
              "</div>"
            ],
            "text/plain": [
              "                                                  Content           label\n",
              "200000  ustazah arbaenah bagi duit belanja banyak even...  Isu Kemiskinan\n",
              "200001  Turunkan Angka Kemiskinan, Pemkot Malang Tarik...  Isu Kemiskinan\n",
              "200002  @Muhamma83724996 @schxnht Bukan takde calon . ...  Isu Kemiskinan\n",
              "200003  and aku biasalah mana banyak sangat duit tu? t...  Isu Kemiskinan\n",
              "200004  Adakah Annuar Musa ikuti perbicaraan Najib ata...  Isu Kemiskinan\n",
              "200005  Bangun pagi stress, nak tgk wayang movie tu ta...  Isu Kemiskinan\n",
              "200006  Kenapa la best sangat hidup ni  Membe siap tan...  Isu Kemiskinan\n",
              "200007                     mls bgt ikut bukber gd duit bg  Isu Kemiskinan\n",
              "200008  Mahathir rompak duit Umno dan duit Malaysia ka...  Isu Kemiskinan\n",
              "200009  @catallunya96 raya ni bosan takde kuih semperi...  Isu Kemiskinan"
            ]
          },
          "metadata": {
            "tags": []
          },
          "execution_count": 8
        }
      ]
    },
    {
      "cell_type": "markdown",
      "metadata": {
        "id": "mWm-IfWBGcqo"
      },
      "source": [
        "# Text Preprocessing"
      ]
    },
    {
      "cell_type": "code",
      "metadata": {
        "id": "Y1NP9sioeU6E"
      },
      "source": [
        "X = df['Content']\n",
        "y = df['label']"
      ],
      "execution_count": null,
      "outputs": []
    },
    {
      "cell_type": "code",
      "metadata": {
        "id": "_Fn2KPauM5F9"
      },
      "source": [
        "def processing(X):\n",
        "  train_x_token = []\n",
        "  for sen in X:\n",
        "\n",
        "    # Remove all url\n",
        "    doc = re.sub(r\"http\\S+\", \"\", sen)\n",
        "    doc = re.sub(r'\\W', ' ', doc)\n",
        "\n",
        "    # remove all single characters\n",
        "    doc = re.sub(r'\\s+[a-zA-Z]\\s+', ' ', doc)\n",
        "      \n",
        "    # Substituting multiple spaces with single space\n",
        "    doc = re.sub(r'\\s+', ' ', doc, flags=re.I)\n",
        "      \n",
        "    # Converting to Lowercase\n",
        "    doc = doc.lower()\n",
        "    #doc = normalizer.normalize(doc)\n",
        "    \n",
        "    train_x_token.append(doc)\n",
        "  return train_x_token"
      ],
      "execution_count": null,
      "outputs": []
    },
    {
      "cell_type": "code",
      "metadata": {
        "id": "JmogAz4C8o8g"
      },
      "source": [
        "train_x_token = processing(X)"
      ],
      "execution_count": null,
      "outputs": []
    },
    {
      "cell_type": "code",
      "metadata": {
        "colab": {
          "base_uri": "https://localhost:8080/"
        },
        "id": "RXDy0hbPSlgZ",
        "outputId": "eeeac85e-35de-4f1a-da17-64172d8246f7"
      },
      "source": [
        "train_x_token[195:200]"
      ],
      "execution_count": null,
      "outputs": [
        {
          "output_type": "execute_result",
          "data": {
            "text/plain": [
              "['kerja kosong di majlis agama islam dan adat istiadat melayu kelantan maik 1 pegawai psikologi s41 2 pegawai ',\n",
              " ' madmatto66 thecjpearson free thinker child raised by grandma coreco jaquan pearson mother was senior in hig ',\n",
              " 'org diluar islam saja tdk mempermasalahkan istilah kafir kenapa justru ada orang ngaku islam malah mau mengubah ',\n",
              " ' dhinx4 ustadtengkuzul allah yg mengatur seluruh kehidupan bro bukan islam islam adalah salah satu agama yg terk ',\n",
              " ' habibsyahdu mudah2an akhir hayat kita membawa iman dan islam bisa saja yg kafir akhir hayatnya nanti mukmin atau ']"
            ]
          },
          "metadata": {
            "tags": []
          },
          "execution_count": 25
        }
      ]
    },
    {
      "cell_type": "markdown",
      "metadata": {
        "id": "LogLZ6Gc9t7w"
      },
      "source": [
        "# Converting text to numbers"
      ]
    },
    {
      "cell_type": "code",
      "metadata": {
        "id": "DG1c0S9anqVJ"
      },
      "source": [
        "def vectorize(X):\n",
        "  tfidfconverter = TfidfVectorizer(max_features=2000, stop_words=data)\n",
        "  X = tfidfconverter.transform(X)\n",
        "  return X"
      ],
      "execution_count": null,
      "outputs": []
    },
    {
      "cell_type": "code",
      "metadata": {
        "id": "PSfXfq-IUHGC"
      },
      "source": [
        "# Open stopwords\n",
        "# Opening JSON file \n",
        "f = open('stopwords-ms.json',) \n",
        "  \n",
        "# returns JSON object as  \n",
        "# a dictionary \n",
        "data = json.load(f) "
      ],
      "execution_count": null,
      "outputs": []
    },
    {
      "cell_type": "code",
      "metadata": {
        "colab": {
          "base_uri": "https://localhost:8080/"
        },
        "id": "b495A1AFU8jT",
        "outputId": "c9cd89c2-69ff-4ec6-d016-9908f19b45f9"
      },
      "source": [
        "tfidfconverter = TfidfVectorizer(max_features=2000, min_df=5, max_df=0.7, stop_words=data)\n",
        "X = tfidfconverter.fit_transform(train_x_token)"
      ],
      "execution_count": null,
      "outputs": [
        {
          "output_type": "stream",
          "text": [
            "/usr/local/lib/python3.6/dist-packages/sklearn/feature_extraction/text.py:385: UserWarning: Your stop_words may be inconsistent with your preprocessing. Tokenizing the stop words generated tokens ['kira', 'masing'] not in stop_words.\n",
            "  'stop_words.' % sorted(inconsistent))\n"
          ],
          "name": "stderr"
        }
      ]
    },
    {
      "cell_type": "markdown",
      "metadata": {
        "id": "oMBDxlaU9ebl"
      },
      "source": [
        "# Training and Testing set"
      ]
    },
    {
      "cell_type": "code",
      "metadata": {
        "id": "JPEwT9XYWHay"
      },
      "source": [
        "from sklearn.model_selection import train_test_split\n",
        "X_train, X_test, y_train, y_test = train_test_split(X, y, test_size=0.2, random_state=42)"
      ],
      "execution_count": null,
      "outputs": []
    },
    {
      "cell_type": "markdown",
      "metadata": {
        "id": "Ce9vW6W29oDo"
      },
      "source": [
        "# Training text classification model and predicting the document category"
      ]
    },
    {
      "cell_type": "code",
      "metadata": {
        "id": "YvgJ0kn3ag3a"
      },
      "source": [
        "from sklearn import model_selection, naive_bayes, svm\n",
        "from sklearn.linear_model import LogisticRegression"
      ],
      "execution_count": null,
      "outputs": []
    },
    {
      "cell_type": "markdown",
      "metadata": {
        "id": "P6gZYGgGkgJq"
      },
      "source": [
        "### SVM"
      ]
    },
    {
      "cell_type": "code",
      "metadata": {
        "colab": {
          "base_uri": "https://localhost:8080/"
        },
        "id": "VOCI-sdiaiT5",
        "outputId": "f6f00fb0-a83b-4f4d-d79e-ab7b736e2d50"
      },
      "source": [
        "svm_classifier = svm.SVC(C=1.0, kernel='linear', degree=3, gamma='auto')\n",
        "svm_classifier.fit(X_train, y_train) "
      ],
      "execution_count": null,
      "outputs": [
        {
          "output_type": "execute_result",
          "data": {
            "text/plain": [
              "SVC(C=1.0, break_ties=False, cache_size=200, class_weight=None, coef0=0.0,\n",
              "    decision_function_shape='ovr', degree=3, gamma='auto', kernel='linear',\n",
              "    max_iter=-1, probability=False, random_state=None, shrinking=True,\n",
              "    tol=0.001, verbose=False)"
            ]
          },
          "metadata": {
            "tags": []
          },
          "execution_count": 31
        }
      ]
    },
    {
      "cell_type": "code",
      "metadata": {
        "id": "35nUVWAnWRMd"
      },
      "source": [
        "y_pred = svm_classifier.predict(X_test)"
      ],
      "execution_count": null,
      "outputs": []
    },
    {
      "cell_type": "code",
      "metadata": {
        "colab": {
          "base_uri": "https://localhost:8080/"
        },
        "id": "_7YWZHe0a6jU",
        "outputId": "5385d05a-d633-4ded-ef6a-4b70f74beee1"
      },
      "source": [
        "print(classification_report(y_test,y_pred))\n",
        "print(\"Accuracy score for SVM: \"+str(accuracy_score(y_test, y_pred)))"
      ],
      "execution_count": null,
      "outputs": [
        {
          "output_type": "stream",
          "text": [
            "                precision    recall  f1-score   support\n",
            "\n",
            "         Agama       0.90      0.94      0.92      2938\n",
            "  Alam Sekitar       0.87      0.95      0.91       401\n",
            "       Ekonomi       0.91      0.86      0.89      9333\n",
            "        Esport       0.98      0.99      0.98      1831\n",
            " Infrastruktur       0.83      0.89      0.86      9134\n",
            "     Isu Dadah       0.66      0.98      0.79      2275\n",
            "Isu Kemiskinan       0.98      0.98      0.98     15191\n",
            " Isu Kesihatan       0.95      0.93      0.94      1709\n",
            "Isu Masyarakat       0.79      0.77      0.78       756\n",
            "    Isu Sosial       0.95      0.65      0.77      3879\n",
            "         PTPTN       0.75      0.70      0.73      4395\n",
            "    Pendidikan       0.63      0.57      0.60       369\n",
            "         Rasis       0.88      1.00      0.94       100\n",
            "        Rasuah       0.92      0.94      0.93       885\n",
            "     Teknologi       0.98      0.98      0.98      7080\n",
            "\n",
            "      accuracy                           0.90     60276\n",
            "     macro avg       0.87      0.88      0.87     60276\n",
            "  weighted avg       0.90      0.90      0.90     60276\n",
            "\n",
            "Accuracy score for SVM: 0.8985997743712257\n"
          ],
          "name": "stdout"
        }
      ]
    },
    {
      "cell_type": "markdown",
      "metadata": {
        "id": "3ruxQQeCkhml"
      },
      "source": [
        "### Logistic Regression"
      ]
    },
    {
      "cell_type": "code",
      "metadata": {
        "colab": {
          "base_uri": "https://localhost:8080/"
        },
        "id": "NoHGt8stgg5G",
        "outputId": "e894c331-bc95-4e0e-bb84-4b20d968ed5c"
      },
      "source": [
        "logistic_classifier = LogisticRegression( max_iter=200)\n",
        "logistic_classifier.fit(X_train, y_train) "
      ],
      "execution_count": null,
      "outputs": [
        {
          "output_type": "stream",
          "text": [
            "/usr/local/lib/python3.6/dist-packages/sklearn/linear_model/_logistic.py:940: ConvergenceWarning: lbfgs failed to converge (status=1):\n",
            "STOP: TOTAL NO. of ITERATIONS REACHED LIMIT.\n",
            "\n",
            "Increase the number of iterations (max_iter) or scale the data as shown in:\n",
            "    https://scikit-learn.org/stable/modules/preprocessing.html\n",
            "Please also refer to the documentation for alternative solver options:\n",
            "    https://scikit-learn.org/stable/modules/linear_model.html#logistic-regression\n",
            "  extra_warning_msg=_LOGISTIC_SOLVER_CONVERGENCE_MSG)\n"
          ],
          "name": "stderr"
        },
        {
          "output_type": "execute_result",
          "data": {
            "text/plain": [
              "LogisticRegression(C=1.0, class_weight=None, dual=False, fit_intercept=True,\n",
              "                   intercept_scaling=1, l1_ratio=None, max_iter=200,\n",
              "                   multi_class='auto', n_jobs=None, penalty='l2',\n",
              "                   random_state=None, solver='lbfgs', tol=0.0001, verbose=0,\n",
              "                   warm_start=False)"
            ]
          },
          "metadata": {
            "tags": []
          },
          "execution_count": 34
        }
      ]
    },
    {
      "cell_type": "code",
      "metadata": {
        "id": "3IAdyx1ihByb"
      },
      "source": [
        "y_pred_logistic = logistic_classifier.predict(X_test)"
      ],
      "execution_count": null,
      "outputs": []
    },
    {
      "cell_type": "code",
      "metadata": {
        "colab": {
          "base_uri": "https://localhost:8080/"
        },
        "id": "j0o1nJ0vhGnz",
        "outputId": "989911eb-2571-4ef7-a48f-7c1f63c1ea41"
      },
      "source": [
        "print(classification_report(y_test,y_pred_logistic))\n",
        "print(\"Accuracy score for logistic regression: \"+str(accuracy_score(y_test, y_pred_logistic)))"
      ],
      "execution_count": null,
      "outputs": [
        {
          "output_type": "stream",
          "text": [
            "                precision    recall  f1-score   support\n",
            "\n",
            "         Agama       0.90      0.94      0.92      2938\n",
            "  Alam Sekitar       0.93      0.87      0.90       401\n",
            "       Ekonomi       0.90      0.87      0.89      9333\n",
            "        Esport       0.99      0.98      0.99      1831\n",
            " Infrastruktur       0.82      0.89      0.86      9134\n",
            "     Isu Dadah       0.65      0.92      0.76      2275\n",
            "Isu Kemiskinan       0.98      0.99      0.98     15191\n",
            " Isu Kesihatan       0.95      0.91      0.93      1709\n",
            "Isu Masyarakat       0.81      0.76      0.79       756\n",
            "    Isu Sosial       0.90      0.66      0.76      3879\n",
            "         PTPTN       0.75      0.69      0.72      4395\n",
            "    Pendidikan       0.67      0.56      0.61       369\n",
            "         Rasis       0.96      0.94      0.95       100\n",
            "        Rasuah       0.94      0.92      0.93       885\n",
            "     Teknologi       0.98      0.98      0.98      7080\n",
            "\n",
            "      accuracy                           0.90     60276\n",
            "     macro avg       0.88      0.86      0.86     60276\n",
            "  weighted avg       0.90      0.90      0.90     60276\n",
            "\n",
            "Accuracy score for logistic regression: 0.8964762094365917\n"
          ],
          "name": "stdout"
        }
      ]
    },
    {
      "cell_type": "markdown",
      "metadata": {
        "id": "av9nibn2klwn"
      },
      "source": [
        "### Naive Bayes"
      ]
    },
    {
      "cell_type": "code",
      "metadata": {
        "colab": {
          "base_uri": "https://localhost:8080/"
        },
        "id": "L503NMtikW1l",
        "outputId": "b24fc3a5-001f-45ab-c2a0-812a3b436aee"
      },
      "source": [
        "naive_classifier = naive_bayes.MultinomialNB()\n",
        "naive_classifier.fit(X_train, y_train) "
      ],
      "execution_count": null,
      "outputs": [
        {
          "output_type": "execute_result",
          "data": {
            "text/plain": [
              "MultinomialNB(alpha=1.0, class_prior=None, fit_prior=True)"
            ]
          },
          "metadata": {
            "tags": []
          },
          "execution_count": 37
        }
      ]
    },
    {
      "cell_type": "code",
      "metadata": {
        "id": "q--4RTBhkyNr"
      },
      "source": [
        "y_pred_naive = naive_classifier.predict(X_test)"
      ],
      "execution_count": null,
      "outputs": []
    },
    {
      "cell_type": "code",
      "metadata": {
        "colab": {
          "base_uri": "https://localhost:8080/"
        },
        "id": "lILUagWyk4O3",
        "outputId": "9ac0a815-db6d-498c-f989-1dad8743c339"
      },
      "source": [
        "print(classification_report(y_test,y_pred_naive))\n",
        "print(\"Accuracy score for Naive Bayes: \"+str(accuracy_score(y_test, y_pred_naive)))"
      ],
      "execution_count": null,
      "outputs": [
        {
          "output_type": "stream",
          "text": [
            "                precision    recall  f1-score   support\n",
            "\n",
            "         Agama       0.85      0.80      0.82      2938\n",
            "  Alam Sekitar       0.96      0.56      0.70       401\n",
            "       Ekonomi       0.83      0.72      0.77      9333\n",
            "        Esport       0.98      0.91      0.94      1831\n",
            " Infrastruktur       0.81      0.61      0.70      9134\n",
            "     Isu Dadah       0.61      0.79      0.69      2275\n",
            "Isu Kemiskinan       0.70      0.95      0.81     15191\n",
            " Isu Kesihatan       0.96      0.73      0.83      1709\n",
            "Isu Masyarakat       0.93      0.62      0.75       756\n",
            "    Isu Sosial       0.84      0.52      0.64      3879\n",
            "         PTPTN       0.61      0.55      0.58      4395\n",
            "    Pendidikan       0.70      0.31      0.43       369\n",
            "         Rasis       0.98      0.47      0.64       100\n",
            "        Rasuah       0.87      0.60      0.71       885\n",
            "     Teknologi       0.85      0.96      0.90      7080\n",
            "\n",
            "      accuracy                           0.77     60276\n",
            "     macro avg       0.83      0.67      0.73     60276\n",
            "  weighted avg       0.78      0.77      0.76     60276\n",
            "\n",
            "Accuracy score for Naive Bayes: 0.7708540712721481\n"
          ],
          "name": "stdout"
        }
      ]
    },
    {
      "cell_type": "code",
      "metadata": {
        "id": "i_DZPd-msj4U",
        "colab": {
          "base_uri": "https://localhost:8080/",
          "height": 856
        },
        "outputId": "9e5cf826-13c4-4399-a941-b4004e4a73b4"
      },
      "source": [
        "fig2 = plt.figure(figsize=(15, 15))\n",
        "# Create an axes instance\n",
        "ax = fig2.add_subplot(111)\n",
        "plot_confusion_matrix(svm_classifier, X_test, y_test,ax=ax, normalize = 'true')  \n",
        "\n",
        "plt.show()  "
      ],
      "execution_count": null,
      "outputs": [
        {
          "output_type": "display_data",
          "data": {
            "image/png": "[encoded data removed]",
            "text/plain": [
              "<Figure size 1080x1080 with 2 Axes>"
            ]
          },
          "metadata": {
            "tags": [],
            "needs_background": "light"
          }
        }
      ]
    },
    {
      "cell_type": "markdown",
      "metadata": {
        "id": "bKXZIo1NlCR_"
      },
      "source": [
        "# Save and Load model"
      ]
    },
    {
      "cell_type": "code",
      "metadata": {
        "id": "Qc5Qk26jckHL"
      },
      "source": [
        "filename = 'svm_classifier.sav'\n",
        "pickle.dump(svm_classifier, open(filename, 'wb'))"
      ],
      "execution_count": null,
      "outputs": []
    },
    {
      "cell_type": "code",
      "metadata": {
        "id": "xqj83LWahcxM"
      },
      "source": [
        "filename = 'logistic_classifier.sav'\n",
        "pickle.dump(logistic_classifier, open(filename, 'wb'))"
      ],
      "execution_count": null,
      "outputs": []
    },
    {
      "cell_type": "code",
      "metadata": {
        "colab": {
          "base_uri": "https://localhost:8080/"
        },
        "id": "ydhk2tqEdUdN",
        "outputId": "f348bc13-94ae-4a02-8241-c320decc879d"
      },
      "source": [
        "# load the model from disk\n",
        "loaded_model = pickle.load(open(filename, 'rb'))\n",
        "result = loaded_model.score(X_test, y_test)\n",
        "print(result)"
      ],
      "execution_count": null,
      "outputs": [
        {
          "output_type": "stream",
          "text": [
            "0.8964762094365917\n"
          ],
          "name": "stdout"
        }
      ]
    },
    {
      "cell_type": "code",
      "metadata": {
        "id": "Gzt69iN-m-i6"
      },
      "source": [
        "t = ['''RATA-RATA orang ramai agak keliru dengan penggunaan insulin kerana dikatakan boleh merosakkan buah pinggang.\n",
        "\n",
        "\n",
        "Adakah benar keadaan sedemikian?\n",
        "\n",
        "Sebenarnya, insulin sama sekali tidak merosakkan buah pinggang. Hal demikian kerana, insulin yang dicucuk kepada pesakit kencing manis itu adalah sama strukturnya dengan insulin yang dihasilkan oleh badan manusia sendiri.\n",
        "\n",
        "\n",
        "Bagaimana ubat insulin itu boleh sama strukturnya dengan insulin yang dihasilkan dalam badan manusia?\n",
        "\n",
        "Ubat insulin boleh sama strukturnya dengan insulin semula jadi yang dihasilkan dalam badan manusia melalui teknologi kejuruteraan genetik. Segala protein dalam badan kita dibina melalui gen dalam sel badan termasuklah insulin.\n",
        "\n",
        "Gen yang menghasilkan insulin tersebut dikenal pasti dan dimasukkan ke dalam gen bakteria. Setelah itu, bakteria berkenaan pula mempunyai kemampuan untuk menghasilkan insulin yang sama seperti dalam badan manusia. Insulin itulah yang digunakan kepada pesakit kencing manis.\n",
        "\n",
        "Oleh itu, tidak perlu gusar lagi apabila ramai mengatakan ia boleh merosakkan buah pinggang kerana perkara itu tidak benar sama sekali.\n",
        "\n",
        "\n",
        "INSULIN sama sekali tidak merosakkan buah pinggang.\n",
        "ANEKDOT\n",
        "\n",
        "\n",
        "Jenis insulin yang sesuai kepada pesakit kencing manis:\n",
        "\n",
        "Ia bergantung kepada bila dan sejauh mana kesannya terhadap paras glukos darah termasuklah:\n",
        "\n",
        "\n",
        " \n",
        "1. Permulaan tindakan – Bila ia mula bertindak menurunkan paras glukosa?\n",
        "\n",
        "\n",
        " \n",
        "2. Puncak tindakan – Bilakah kesannya di paras maksimum terhadap paras glukosa darah?\n",
        "\n",
        "3. Jangka masa tindakan – Berapa lamakah tindakan keseluruhannya bertahan?\n",
        "\n",
        "Kesan masa dan tempoh tindakan insulin adalah berbeza untuk setiap individu dan ia boleh juga bergantung kepada:\n",
        "\n",
        "- Di manakah suntikan diberi\n",
        "\n",
        "- Suhu\n",
        "\n",
        "- Aktiviti fizikal\n",
        "\n",
        "- Peredaran darah\n",
        "\n",
        "- Jenis diabetes dan paras glukos dalam darah\n",
        "\n",
        "- Gaya hidup\n",
        "\n",
        "- Pemakanan\n",
        "\n",
        "- Sama ada pesakit mempunyai masalah kesihatan yang lain atau tidak\n",
        "\n",
        "- Kaedah insulin berinteraksi dengan ubat dan suplemen yang diambil\n",
        "''']\n",
        "text = processing(t)"
      ],
      "execution_count": null,
      "outputs": []
    },
    {
      "cell_type": "code",
      "metadata": {
        "id": "Ib0UPuKp_2BK"
      },
      "source": [
        "test_text = processing(t)\n",
        "test_text = tfidfconverter.transform(test_text)"
      ],
      "execution_count": null,
      "outputs": []
    },
    {
      "cell_type": "code",
      "metadata": {
        "id": "wQBACX2UoJ6t",
        "colab": {
          "base_uri": "https://localhost:8080/"
        },
        "outputId": "dab234e9-820a-4600-f349-93dedbd63998"
      },
      "source": [
        "pred_try = loaded_model.predict(test_text)\n",
        "pred_try"
      ],
      "execution_count": null,
      "outputs": [
        {
          "output_type": "execute_result",
          "data": {
            "text/plain": [
              "array(['Isu Kesihatan'], dtype=object)"
            ]
          },
          "metadata": {
            "tags": []
          },
          "execution_count": 64
        }
      ]
    },
    {
      "cell_type": "code",
      "metadata": {
        "id": "GuPlrekTQGcQ"
      },
      "source": [
        ""
      ],
      "execution_count": null,
      "outputs": []
    }
  ]
}